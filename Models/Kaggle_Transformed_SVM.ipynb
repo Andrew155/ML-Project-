{
 "cells": [
  {
   "cell_type": "code",
   "execution_count": 110,
   "id": "b1452010",
   "metadata": {},
   "outputs": [],
   "source": [
    "import pandas as pd\n",
    "import numpy as np\n",
    "from sklearn.model_selection import train_test_split\n",
    "from sklearn.svm import SVR\n",
    "\n",
    "import matplotlib.pyplot as plt\n",
    "from sklearn.metrics import mean_absolute_error, mean_squared_error\n",
    "from sklearn.metrics import r2_score\n",
    "\n",
    "from sklearn.model_selection import GridSearchCV\n",
    "import seaborn as sns\n",
    "from sklearn.svm import LinearSVR"
   ]
  },
  {
   "cell_type": "code",
   "execution_count": 111,
   "id": "1c4aaf7c",
   "metadata": {},
   "outputs": [
    {
     "data": {
      "text/html": [
       "<div>\n",
       "<style scoped>\n",
       "    .dataframe tbody tr th:only-of-type {\n",
       "        vertical-align: middle;\n",
       "    }\n",
       "\n",
       "    .dataframe tbody tr th {\n",
       "        vertical-align: top;\n",
       "    }\n",
       "\n",
       "    .dataframe thead th {\n",
       "        text-align: right;\n",
       "    }\n",
       "</style>\n",
       "<table border=\"1\" class=\"dataframe\">\n",
       "  <thead>\n",
       "    <tr style=\"text-align: right;\">\n",
       "      <th></th>\n",
       "      <th>Country</th>\n",
       "      <th>Year</th>\n",
       "      <th>Life expectancy</th>\n",
       "      <th>Adult mortality</th>\n",
       "      <th>Infant deaths</th>\n",
       "      <th>Alcohol</th>\n",
       "      <th>Percentage expenditure</th>\n",
       "      <th>Hepatitis B</th>\n",
       "      <th>Measles</th>\n",
       "      <th>BMI</th>\n",
       "      <th>Polio</th>\n",
       "      <th>Total expenditure</th>\n",
       "      <th>Diphtheria</th>\n",
       "      <th>HIV/AIDS</th>\n",
       "      <th>Thinness 1-19 years</th>\n",
       "      <th>Income composition of resources</th>\n",
       "      <th>Schooling</th>\n",
       "    </tr>\n",
       "  </thead>\n",
       "  <tbody>\n",
       "    <tr>\n",
       "      <th>0</th>\n",
       "      <td>Afghanistan</td>\n",
       "      <td>2000</td>\n",
       "      <td>54.8</td>\n",
       "      <td>321.0</td>\n",
       "      <td>2.534276</td>\n",
       "      <td>0.01</td>\n",
       "      <td>2.480898</td>\n",
       "      <td>62.0</td>\n",
       "      <td>5.475359</td>\n",
       "      <td>12.2</td>\n",
       "      <td>24.0</td>\n",
       "      <td>8.20</td>\n",
       "      <td>24.0</td>\n",
       "      <td>-0.827814</td>\n",
       "      <td>2.3</td>\n",
       "      <td>0.338</td>\n",
       "      <td>5.5</td>\n",
       "    </tr>\n",
       "    <tr>\n",
       "      <th>1</th>\n",
       "      <td>Afghanistan</td>\n",
       "      <td>2001</td>\n",
       "      <td>55.3</td>\n",
       "      <td>316.0</td>\n",
       "      <td>2.534276</td>\n",
       "      <td>0.01</td>\n",
       "      <td>2.496863</td>\n",
       "      <td>63.0</td>\n",
       "      <td>5.578042</td>\n",
       "      <td>12.6</td>\n",
       "      <td>35.0</td>\n",
       "      <td>7.80</td>\n",
       "      <td>33.0</td>\n",
       "      <td>-0.827814</td>\n",
       "      <td>2.1</td>\n",
       "      <td>0.340</td>\n",
       "      <td>5.9</td>\n",
       "    </tr>\n",
       "    <tr>\n",
       "      <th>2</th>\n",
       "      <td>Afghanistan</td>\n",
       "      <td>2002</td>\n",
       "      <td>56.2</td>\n",
       "      <td>3.0</td>\n",
       "      <td>2.534276</td>\n",
       "      <td>0.01</td>\n",
       "      <td>3.026871</td>\n",
       "      <td>64.0</td>\n",
       "      <td>5.111467</td>\n",
       "      <td>13.0</td>\n",
       "      <td>36.0</td>\n",
       "      <td>7.76</td>\n",
       "      <td>36.0</td>\n",
       "      <td>-0.827814</td>\n",
       "      <td>19.9</td>\n",
       "      <td>0.341</td>\n",
       "      <td>6.2</td>\n",
       "    </tr>\n",
       "    <tr>\n",
       "      <th>3</th>\n",
       "      <td>Afghanistan</td>\n",
       "      <td>2003</td>\n",
       "      <td>56.7</td>\n",
       "      <td>295.0</td>\n",
       "      <td>2.531065</td>\n",
       "      <td>0.01</td>\n",
       "      <td>2.550095</td>\n",
       "      <td>65.0</td>\n",
       "      <td>4.626970</td>\n",
       "      <td>13.4</td>\n",
       "      <td>41.0</td>\n",
       "      <td>8.82</td>\n",
       "      <td>41.0</td>\n",
       "      <td>-0.827814</td>\n",
       "      <td>19.7</td>\n",
       "      <td>0.373</td>\n",
       "      <td>6.5</td>\n",
       "    </tr>\n",
       "    <tr>\n",
       "      <th>4</th>\n",
       "      <td>Afghanistan</td>\n",
       "      <td>2004</td>\n",
       "      <td>57.0</td>\n",
       "      <td>293.0</td>\n",
       "      <td>2.531065</td>\n",
       "      <td>0.02</td>\n",
       "      <td>2.913820</td>\n",
       "      <td>67.0</td>\n",
       "      <td>4.374016</td>\n",
       "      <td>13.8</td>\n",
       "      <td>5.0</td>\n",
       "      <td>8.79</td>\n",
       "      <td>5.0</td>\n",
       "      <td>-0.827814</td>\n",
       "      <td>19.5</td>\n",
       "      <td>0.381</td>\n",
       "      <td>6.8</td>\n",
       "    </tr>\n",
       "  </tbody>\n",
       "</table>\n",
       "</div>"
      ],
      "text/plain": [
       "       Country  Year  Life expectancy  Adult mortality  Infant deaths  \\\n",
       "0  Afghanistan  2000             54.8            321.0       2.534276   \n",
       "1  Afghanistan  2001             55.3            316.0       2.534276   \n",
       "2  Afghanistan  2002             56.2              3.0       2.534276   \n",
       "3  Afghanistan  2003             56.7            295.0       2.531065   \n",
       "4  Afghanistan  2004             57.0            293.0       2.531065   \n",
       "\n",
       "   Alcohol  Percentage expenditure  Hepatitis B   Measles   BMI  Polio  \\\n",
       "0     0.01                2.480898         62.0  5.475359  12.2   24.0   \n",
       "1     0.01                2.496863         63.0  5.578042  12.6   35.0   \n",
       "2     0.01                3.026871         64.0  5.111467  13.0   36.0   \n",
       "3     0.01                2.550095         65.0  4.626970  13.4   41.0   \n",
       "4     0.02                2.913820         67.0  4.374016  13.8    5.0   \n",
       "\n",
       "   Total expenditure  Diphtheria  HIV/AIDS  Thinness 1-19 years  \\\n",
       "0               8.20        24.0 -0.827814                  2.3   \n",
       "1               7.80        33.0 -0.827814                  2.1   \n",
       "2               7.76        36.0 -0.827814                 19.9   \n",
       "3               8.82        41.0 -0.827814                 19.7   \n",
       "4               8.79         5.0 -0.827814                 19.5   \n",
       "\n",
       "   Income composition of resources  Schooling  \n",
       "0                            0.338        5.5  \n",
       "1                            0.340        5.9  \n",
       "2                            0.341        6.2  \n",
       "3                            0.373        6.5  \n",
       "4                            0.381        6.8  "
      ]
     },
     "execution_count": 111,
     "metadata": {},
     "output_type": "execute_result"
    }
   ],
   "source": [
    "filepath = 'Datasets/Kaggle Cleaned/Life Expectancy Kaggle Transformed_1.csv'\n",
    "df = pd.read_csv(filepath)\n",
    "df.head(5)\n"
   ]
  },
  {
   "cell_type": "code",
   "execution_count": 112,
   "id": "5ab8f693",
   "metadata": {},
   "outputs": [
    {
     "data": {
      "text/plain": [
       "(2445, 17)"
      ]
     },
     "execution_count": 112,
     "metadata": {},
     "output_type": "execute_result"
    }
   ],
   "source": [
    "df.shape"
   ]
  },
  {
   "cell_type": "code",
   "execution_count": 113,
   "id": "354792f7",
   "metadata": {},
   "outputs": [
    {
     "data": {
      "text/html": [
       "<div>\n",
       "<style scoped>\n",
       "    .dataframe tbody tr th:only-of-type {\n",
       "        vertical-align: middle;\n",
       "    }\n",
       "\n",
       "    .dataframe tbody tr th {\n",
       "        vertical-align: top;\n",
       "    }\n",
       "\n",
       "    .dataframe thead th {\n",
       "        text-align: right;\n",
       "    }\n",
       "</style>\n",
       "<table border=\"1\" class=\"dataframe\">\n",
       "  <thead>\n",
       "    <tr style=\"text-align: right;\">\n",
       "      <th></th>\n",
       "      <th>Year</th>\n",
       "      <th>Life expectancy</th>\n",
       "      <th>Adult mortality</th>\n",
       "      <th>Infant deaths</th>\n",
       "      <th>Alcohol</th>\n",
       "      <th>Percentage expenditure</th>\n",
       "      <th>Hepatitis B</th>\n",
       "      <th>Measles</th>\n",
       "      <th>BMI</th>\n",
       "      <th>Polio</th>\n",
       "      <th>Total expenditure</th>\n",
       "      <th>Diphtheria</th>\n",
       "      <th>HIV/AIDS</th>\n",
       "      <th>Thinness 1-19 years</th>\n",
       "      <th>Income composition of resources</th>\n",
       "      <th>Schooling</th>\n",
       "    </tr>\n",
       "  </thead>\n",
       "  <tbody>\n",
       "    <tr>\n",
       "      <th>count</th>\n",
       "      <td>2445.000000</td>\n",
       "      <td>2445.000000</td>\n",
       "      <td>2445.000000</td>\n",
       "      <td>2445.000000</td>\n",
       "      <td>2445.000000</td>\n",
       "      <td>2445.000000</td>\n",
       "      <td>2445.000000</td>\n",
       "      <td>2445.000000</td>\n",
       "      <td>2445.000000</td>\n",
       "      <td>2445.000000</td>\n",
       "      <td>2445.000000</td>\n",
       "      <td>2445.000000</td>\n",
       "      <td>2.445000e+03</td>\n",
       "      <td>2445.000000</td>\n",
       "      <td>2445.000000</td>\n",
       "      <td>2445.000000</td>\n",
       "    </tr>\n",
       "    <tr>\n",
       "      <th>mean</th>\n",
       "      <td>2007.000000</td>\n",
       "      <td>68.795051</td>\n",
       "      <td>166.644581</td>\n",
       "      <td>1.053562</td>\n",
       "      <td>4.309732</td>\n",
       "      <td>5.003168</td>\n",
       "      <td>75.975869</td>\n",
       "      <td>2.310691</td>\n",
       "      <td>37.669816</td>\n",
       "      <td>82.087117</td>\n",
       "      <td>5.769072</td>\n",
       "      <td>81.998364</td>\n",
       "      <td>-4.940379e-17</td>\n",
       "      <td>5.084172</td>\n",
       "      <td>0.614865</td>\n",
       "      <td>11.815174</td>\n",
       "    </tr>\n",
       "    <tr>\n",
       "      <th>std</th>\n",
       "      <td>4.321378</td>\n",
       "      <td>9.260263</td>\n",
       "      <td>125.082974</td>\n",
       "      <td>0.994150</td>\n",
       "      <td>3.937997</td>\n",
       "      <td>3.000241</td>\n",
       "      <td>28.413085</td>\n",
       "      <td>2.123543</td>\n",
       "      <td>19.778206</td>\n",
       "      <td>23.469941</td>\n",
       "      <td>2.307287</td>\n",
       "      <td>23.702742</td>\n",
       "      <td>1.000205e+00</td>\n",
       "      <td>4.531485</td>\n",
       "      <td>0.207476</td>\n",
       "      <td>3.162035</td>\n",
       "    </tr>\n",
       "    <tr>\n",
       "      <th>min</th>\n",
       "      <td>2000.000000</td>\n",
       "      <td>36.300000</td>\n",
       "      <td>1.000000</td>\n",
       "      <td>0.000000</td>\n",
       "      <td>0.010000</td>\n",
       "      <td>-2.181280</td>\n",
       "      <td>2.000000</td>\n",
       "      <td>0.000000</td>\n",
       "      <td>1.000000</td>\n",
       "      <td>3.000000</td>\n",
       "      <td>0.370000</td>\n",
       "      <td>2.000000</td>\n",
       "      <td>-8.278139e-01</td>\n",
       "      <td>0.100000</td>\n",
       "      <td>0.000000</td>\n",
       "      <td>0.000000</td>\n",
       "    </tr>\n",
       "    <tr>\n",
       "      <th>25%</th>\n",
       "      <td>2003.000000</td>\n",
       "      <td>63.000000</td>\n",
       "      <td>76.000000</td>\n",
       "      <td>0.000000</td>\n",
       "      <td>0.680000</td>\n",
       "      <td>3.017851</td>\n",
       "      <td>67.000000</td>\n",
       "      <td>0.000000</td>\n",
       "      <td>18.800000</td>\n",
       "      <td>77.000000</td>\n",
       "      <td>4.240000</td>\n",
       "      <td>78.000000</td>\n",
       "      <td>-8.278139e-01</td>\n",
       "      <td>1.700000</td>\n",
       "      <td>0.487000</td>\n",
       "      <td>10.000000</td>\n",
       "    </tr>\n",
       "    <tr>\n",
       "      <th>50%</th>\n",
       "      <td>2007.000000</td>\n",
       "      <td>71.800000</td>\n",
       "      <td>146.000000</td>\n",
       "      <td>0.943791</td>\n",
       "      <td>3.410000</td>\n",
       "      <td>5.032074</td>\n",
       "      <td>89.000000</td>\n",
       "      <td>2.365712</td>\n",
       "      <td>42.700000</td>\n",
       "      <td>92.000000</td>\n",
       "      <td>5.620000</td>\n",
       "      <td>92.000000</td>\n",
       "      <td>-8.278139e-01</td>\n",
       "      <td>3.500000</td>\n",
       "      <td>0.666000</td>\n",
       "      <td>12.200000</td>\n",
       "    </tr>\n",
       "    <tr>\n",
       "      <th>75%</th>\n",
       "      <td>2011.000000</td>\n",
       "      <td>75.000000</td>\n",
       "      <td>227.000000</td>\n",
       "      <td>2.017589</td>\n",
       "      <td>7.170000</td>\n",
       "      <td>7.160764</td>\n",
       "      <td>96.000000</td>\n",
       "      <td>4.237018</td>\n",
       "      <td>55.500000</td>\n",
       "      <td>97.000000</td>\n",
       "      <td>7.200000</td>\n",
       "      <td>97.000000</td>\n",
       "      <td>1.246853e+00</td>\n",
       "      <td>7.400000</td>\n",
       "      <td>0.760000</td>\n",
       "      <td>13.900000</td>\n",
       "    </tr>\n",
       "    <tr>\n",
       "      <th>max</th>\n",
       "      <td>2014.000000</td>\n",
       "      <td>89.000000</td>\n",
       "      <td>723.000000</td>\n",
       "      <td>3.102930</td>\n",
       "      <td>17.870000</td>\n",
       "      <td>12.587254</td>\n",
       "      <td>99.000000</td>\n",
       "      <td>6.491184</td>\n",
       "      <td>77.100000</td>\n",
       "      <td>99.000000</td>\n",
       "      <td>14.390000</td>\n",
       "      <td>99.000000</td>\n",
       "      <td>1.305011e+00</td>\n",
       "      <td>27.700000</td>\n",
       "      <td>0.936000</td>\n",
       "      <td>20.700000</td>\n",
       "    </tr>\n",
       "  </tbody>\n",
       "</table>\n",
       "</div>"
      ],
      "text/plain": [
       "              Year  Life expectancy  Adult mortality  Infant deaths  \\\n",
       "count  2445.000000      2445.000000      2445.000000    2445.000000   \n",
       "mean   2007.000000        68.795051       166.644581       1.053562   \n",
       "std       4.321378         9.260263       125.082974       0.994150   \n",
       "min    2000.000000        36.300000         1.000000       0.000000   \n",
       "25%    2003.000000        63.000000        76.000000       0.000000   \n",
       "50%    2007.000000        71.800000       146.000000       0.943791   \n",
       "75%    2011.000000        75.000000       227.000000       2.017589   \n",
       "max    2014.000000        89.000000       723.000000       3.102930   \n",
       "\n",
       "           Alcohol  Percentage expenditure  Hepatitis B      Measles  \\\n",
       "count  2445.000000             2445.000000  2445.000000  2445.000000   \n",
       "mean      4.309732                5.003168    75.975869     2.310691   \n",
       "std       3.937997                3.000241    28.413085     2.123543   \n",
       "min       0.010000               -2.181280     2.000000     0.000000   \n",
       "25%       0.680000                3.017851    67.000000     0.000000   \n",
       "50%       3.410000                5.032074    89.000000     2.365712   \n",
       "75%       7.170000                7.160764    96.000000     4.237018   \n",
       "max      17.870000               12.587254    99.000000     6.491184   \n",
       "\n",
       "               BMI        Polio  Total expenditure   Diphtheria      HIV/AIDS  \\\n",
       "count  2445.000000  2445.000000        2445.000000  2445.000000  2.445000e+03   \n",
       "mean     37.669816    82.087117           5.769072    81.998364 -4.940379e-17   \n",
       "std      19.778206    23.469941           2.307287    23.702742  1.000205e+00   \n",
       "min       1.000000     3.000000           0.370000     2.000000 -8.278139e-01   \n",
       "25%      18.800000    77.000000           4.240000    78.000000 -8.278139e-01   \n",
       "50%      42.700000    92.000000           5.620000    92.000000 -8.278139e-01   \n",
       "75%      55.500000    97.000000           7.200000    97.000000  1.246853e+00   \n",
       "max      77.100000    99.000000          14.390000    99.000000  1.305011e+00   \n",
       "\n",
       "       Thinness 1-19 years  Income composition of resources    Schooling  \n",
       "count          2445.000000                      2445.000000  2445.000000  \n",
       "mean              5.084172                         0.614865    11.815174  \n",
       "std               4.531485                         0.207476     3.162035  \n",
       "min               0.100000                         0.000000     0.000000  \n",
       "25%               1.700000                         0.487000    10.000000  \n",
       "50%               3.500000                         0.666000    12.200000  \n",
       "75%               7.400000                         0.760000    13.900000  \n",
       "max              27.700000                         0.936000    20.700000  "
      ]
     },
     "execution_count": 113,
     "metadata": {},
     "output_type": "execute_result"
    }
   ],
   "source": [
    "df.describe()"
   ]
  },
  {
   "cell_type": "code",
   "execution_count": 114,
   "id": "286047a0",
   "metadata": {},
   "outputs": [],
   "source": [
    "X = df.drop(['Year', 'Country', 'Life expectancy'], axis=1)  # Features\n",
    "y = df['Life expectancy'] #target\n",
    "X_train, X_test, y_train, y_test = train_test_split(X, y, test_size=0.2, random_state=42)"
   ]
  },
  {
   "cell_type": "code",
   "execution_count": 115,
   "id": "00792e79",
   "metadata": {},
   "outputs": [
    {
     "data": {
      "text/plain": [
       "array([[-0.7373628 , -1.0641457 ,  1.96574664, ..., -0.74562111,\n",
       "         1.19545595,  1.03884925],\n",
       "       [-0.11514297,  1.3224295 ,  0.82070943, ..., -0.48067994,\n",
       "         0.49459412,  0.62961195],\n",
       "       [-1.04847272,  0.99296048,  1.50057527, ..., -0.48067994,\n",
       "         0.46144525,  0.09445547],\n",
       "       ...,\n",
       "       [ 1.00166186,  0.50586767,  0.67246801, ..., -0.59107209,\n",
       "         0.59404073,  0.66109174],\n",
       "       [-1.15217602, -1.0641457 ,  1.9913055 , ..., -0.43652308,\n",
       "         0.85449614,  1.41660676],\n",
       "       [ 1.01761621,  1.23014967, -0.71793431, ...,  0.66739845,\n",
       "        -0.53302086, -1.16473623]])"
      ]
     },
     "execution_count": 115,
     "metadata": {},
     "output_type": "execute_result"
    }
   ],
   "source": [
    "from sklearn.preprocessing import StandardScaler\n",
    "\n",
    "scaler = StandardScaler()\n",
    "X_train = scaler.fit_transform(X_train)\n",
    "X_test = scaler.transform(X_test)\n",
    "X_train\n",
    "\n"
   ]
  },
  {
   "cell_type": "code",
   "execution_count": 116,
   "id": "97d203ba",
   "metadata": {},
   "outputs": [
    {
     "data": {
      "text/plain": [
       "array([0.37397486, 0.11359385, 0.08566948, 0.07593674, 0.05953555,\n",
       "       0.05026926, 0.04469398, 0.03750436, 0.03661629, 0.03433182])"
      ]
     },
     "execution_count": 116,
     "metadata": {},
     "output_type": "execute_result"
    }
   ],
   "source": [
    "from sklearn.decomposition import PCA\n",
    "pca = PCA(n_components=0.9)\n",
    "pca_data = pca.fit(X_train)\n",
    "pca_data.explained_variance_ratio_"
   ]
  },
  {
   "cell_type": "code",
   "execution_count": 117,
   "id": "5815a9d0",
   "metadata": {},
   "outputs": [
    {
     "data": {
      "text/plain": [
       "array([37.4 , 48.76, 57.33, 64.92, 70.87, 75.9 , 80.37, 84.12, 87.78,\n",
       "       91.21])"
      ]
     },
     "execution_count": 117,
     "metadata": {},
     "output_type": "execute_result"
    }
   ],
   "source": [
    "np.cumsum(np.round(pca_data.explained_variance_ratio_, decimals = 4) * 100)"
   ]
  },
  {
   "cell_type": "code",
   "execution_count": 118,
   "id": "7539ecb1",
   "metadata": {},
   "outputs": [
    {
     "data": {
      "text/plain": [
       "(1956, 10)"
      ]
     },
     "execution_count": 118,
     "metadata": {},
     "output_type": "execute_result"
    }
   ],
   "source": [
    "X_train = pca.transform(X_train)\n",
    "X_test = pca.transform(X_test)\n",
    "X_train.shape"
   ]
  },
  {
   "cell_type": "code",
   "execution_count": 119,
   "id": "59631f9f",
   "metadata": {},
   "outputs": [
    {
     "name": "stdout",
     "output_type": "stream",
     "text": [
      "For the linear kernel, the train score is: 0.7618\n",
      "For the linear kernel, the test score is: 0.7612\n",
      "\n",
      "\n",
      "For the poly kernel, the train score is: 0.8435\n",
      "For the poly kernel, the test score is: 0.8115\n",
      "\n",
      "\n",
      "For the rbf kernel, the train score is: 0.8795\n",
      "For the rbf kernel, the test score is: 0.8585\n",
      "\n",
      "\n"
     ]
    }
   ],
   "source": [
    "\n",
    "for i in ['linear','poly','rbf']:\n",
    "    ker = SVR(kernel = i, gamma = 'auto')\n",
    "    ker.fit(X_train, y_train)\n",
    "    ker_train= ker.score(X_train,y_train)\n",
    "    ker_test = ker.score(X_test, y_test)\n",
    "    print('For the', i,'kernel, the train score is: {:.4f}'.format(ker_train))\n",
    "    print('For the', i,'kernel, the test score is: {:.4f}'.format(ker_test))\n",
    "    print('\\n')"
   ]
  },
  {
   "cell_type": "markdown",
   "id": "903263e7",
   "metadata": {},
   "source": [
    "# SVM with Kernel Linear"
   ]
  },
  {
   "cell_type": "code",
   "execution_count": 120,
   "id": "5f24ac90",
   "metadata": {},
   "outputs": [
    {
     "name": "stdout",
     "output_type": "stream",
     "text": [
      "Parameter grid:\n",
      "{'C': [0.001, 0.01, 0.1, 1, 10, 100], 'gamma': [0.001, 0.01, 0.1, 1, 10, 100], 'epsilon': [0.01, 0.1, 0.5, 1.0, 2.0]}\n",
      "Best parameters for kernel SVR linear: {'C': 0.1, 'epsilon': 2.0, 'gamma': 0.001}\n",
      "Best cross-validationscore: 0.78\n"
     ]
    }
   ],
   "source": [
    "\n",
    "#We are considering only the two main parameters- C and gamma\n",
    "param_grid = {'C': [0.001, 0.01, 0.1, 1, 10, 100],\n",
    "              'gamma': [0.001, 0.01, 0.1, 1, 10, 100],\n",
    "              'epsilon': [0.01, 0.1, 0.5, 1.0, 2.0]}\n",
    "print(\"Parameter grid:\\n{}\".format(param_grid))\n",
    "\n",
    "grid_ker_lin = GridSearchCV(SVR(kernel = 'linear'), param_grid, cv = 5, return_train_score=True)\n",
    "grid_ker_lin.fit(X_train,y_train)\n",
    "\n",
    "print(\"Best parameters for kernel SVR linear: {}\".format(grid_ker_lin.best_params_))\n",
    "print(\"Best cross-validationscore: {:.2f}\".format(grid_ker_lin.best_score_))"
   ]
  },
  {
   "cell_type": "code",
   "execution_count": 121,
   "id": "9f767453",
   "metadata": {},
   "outputs": [
    {
     "name": "stdout",
     "output_type": "stream",
     "text": [
      "Train score: 0.7783\n",
      "Test score: 0.7832\n",
      "R2_score: 0.7832\n",
      "MSE: 19.3147\n",
      "RMSE: 4.3949\n"
     ]
    }
   ],
   "source": [
    "best_kerlinsvr = SVR( kernel = 'linear', C=0.1, gamma=0.001, epsilon = 2.0)\n",
    "best_kerlinsvr.fit(X_train, y_train)\n",
    "ykerlinsvr_predicted = best_kerlinsvr.predict(X_test)\n",
    "\n",
    "print('Train score: {:.4f}'.format(best_kerlinsvr.score(X_train, y_train)))\n",
    "print('Test score: {:.4f}'.format(best_kerlinsvr.score(X_test, y_test)))\n",
    "print('R2_score: {:.4f}'.format(r2_score(y_test,ykerlinsvr_predicted)))\n",
    "MSE = np.square(np.subtract(y_test,ykerlinsvr_predicted)).mean()\n",
    "print('MSE: {:.4f}'.format(MSE))\n",
    "RMSE = np.sqrt(mean_squared_error(y_test, ykerlinsvr_predicted))\n",
    "print('RMSE: {:.4f}'.format(RMSE))"
   ]
  },
  {
   "cell_type": "code",
   "execution_count": 102,
   "id": "ffff3207",
   "metadata": {
    "scrolled": true
   },
   "outputs": [
    {
     "name": "stdout",
     "output_type": "stream",
     "text": [
      "Cross-Validation RMSE scores: [3.78304471 3.83361762 3.75132962 3.92978226 3.77521671]\n",
      "Mean RMSE: 3.8145981817702337\n"
     ]
    }
   ],
   "source": [
    "from sklearn.model_selection import cross_val_score\n",
    "\n",
    "\n",
    "# Khởi tạo mô hình SVR\n",
    "svr = SVR(kernel='linear', C=0.1, epsilon=2.0, gamma = 0.001)\n",
    "\n",
    "# Sử dụng cross-validation với 5 folds\n",
    "scores = cross_val_score(svr, X_train, y_train, cv=5, scoring='neg_mean_squared_error')\n",
    "\n",
    "# Chuyển đổi từ MSE sang RMSE và tính trung bình\n",
    "rmse_scores = np.sqrt(-scores)\n",
    "mean_rmse = np.mean(rmse_scores)\n",
    "\n",
    "print(\"Cross-Validation RMSE scores:\", rmse_scores)\n",
    "print(\"Mean RMSE:\", mean_rmse)\n"
   ]
  },
  {
   "cell_type": "code",
   "execution_count": 103,
   "id": "ee9e5461",
   "metadata": {},
   "outputs": [
    {
     "name": "stdout",
     "output_type": "stream",
     "text": [
      "Cross-Validation R² scores: [0.82417358 0.82045719 0.83565312 0.83298748 0.8264304 ]\n",
      "Mean R² score: 0.827940352712995\n"
     ]
    }
   ],
   "source": [
    "# Khởi tạo mô hình SVR\n",
    "svr = SVR(kernel='linear', C=0.1, epsilon=2.0, gamma=0.001)\n",
    "\n",
    "# Sử dụng cross-validation với 5 folds để tính R² scores\n",
    "r2_scores = cross_val_score(svr, X_train, y_train, cv=5, scoring='r2')\n",
    "\n",
    "# Tính trung bình và độ lệch chuẩn của R² scores\n",
    "mean_r2 = np.mean(r2_scores)\n",
    "std_r2 = np.std(r2_scores)\n",
    "\n",
    "print(\"Cross-Validation R² scores:\", r2_scores)\n",
    "print(\"Mean R² score:\", mean_r2)\n"
   ]
  },
  {
   "cell_type": "markdown",
   "id": "cc898980",
   "metadata": {},
   "source": [
    "# SVR with Kernel Poly (impossible to run this model)"
   ]
  },
  {
   "cell_type": "code",
   "execution_count": null,
   "id": "d78968b9",
   "metadata": {},
   "outputs": [],
   "source": []
  },
  {
   "cell_type": "markdown",
   "id": "d2e48c8d",
   "metadata": {},
   "source": [
    "# SVR with Kernel RBF"
   ]
  },
  {
   "cell_type": "code",
   "execution_count": 104,
   "id": "7840414c",
   "metadata": {},
   "outputs": [
    {
     "name": "stdout",
     "output_type": "stream",
     "text": [
      "Best parameters for kernel rbf: {'C': 100, 'epsilon': 1.0, 'gamma': 0.1}\n",
      "Best cross-validationscore: 0.91\n",
      "Train score: 0.9723\n",
      "Test score: 0.9212\n"
     ]
    }
   ],
   "source": [
    "#We are considering only the two main parameters- C and gamma\n",
    "param_grid = {'C': [0.001, 0.01, 0.1, 1, 10, 100],\n",
    "              'gamma': [0.001, 0.01, 0.1, 1, 10, 100],\n",
    "              'epsilon': [0.01, 0.1, 0.5, 1.0, 2.0]}\n",
    "\n",
    "grid_ker_rbf = GridSearchCV(SVR(kernel = 'rbf'), param_grid, cv = 7, return_train_score=True)\n",
    "grid_ker_rbf.fit(X_train,y_train)\n",
    "\n",
    "print(\"Best parameters for kernel rbf: {}\".format(grid_ker_rbf.best_params_))\n",
    "print(\"Best cross-validationscore: {:.2f}\".format(grid_ker_rbf.best_score_))\n",
    "print('Train score: {:.4f}'.format(grid_ker_rbf.score(X_train, y_train)))\n",
    "print('Test score: {:.4f}'.format(grid_ker_rbf.score(X_test, y_test)))"
   ]
  },
  {
   "cell_type": "code",
   "execution_count": 109,
   "id": "1df9e5b9",
   "metadata": {},
   "outputs": [
    {
     "name": "stdout",
     "output_type": "stream",
     "text": [
      "R2_score: 0.9212\n",
      "MSE: 7.0226\n",
      "RMSE: 2.6500\n"
     ]
    }
   ],
   "source": [
    "best_kerrbfsvr = SVR( kernel = 'rbf', C=100, gamma=0.1, epsilon=1.0)\n",
    "best_kerrbfsvr.fit(X_train, y_train)\n",
    "ykerrbfsvr_predicted = best_kerrbfsvr.predict(X_test)\n",
    "\n",
    "print('R2_score: {:.4f}'.format(r2_score(y_test,ykerrbfsvr_predicted)))\n",
    "MSE = np.square(np.subtract(y_test,ykerrbfsvr_predicted)).mean()\n",
    "print('MSE: {:.4f}'.format(MSE))\n",
    "RMSE = np.sqrt(mean_squared_error(y_test, ykerrbfsvr_predicted))\n",
    "print('RMSE: {:.4f}'.format(RMSE))"
   ]
  },
  {
   "cell_type": "code",
   "execution_count": 88,
   "id": "600e2202",
   "metadata": {},
   "outputs": [
    {
     "name": "stdout",
     "output_type": "stream",
     "text": [
      "Cross-Validation RMSE scores: [2.59022156 2.79601441 2.59617214 3.1585881  2.80293696]\n",
      "Mean RMSE: 2.788786633907402\n"
     ]
    }
   ],
   "source": [
    "from sklearn.model_selection import cross_val_score\n",
    "\n",
    "\n",
    "# Khởi tạo mô hình SVR\n",
    "svr = SVR(kernel='rbf', C=100, epsilon=1.0, gamma=0.1)\n",
    "\n",
    "# Sử dụng cross-validation với 5 folds\n",
    "scores = cross_val_score(svr, X_train, y_train, cv=5, scoring='neg_mean_squared_error')\n",
    "\n",
    "# Chuyển đổi từ MSE sang RMSE và tính trung bình\n",
    "rmse_scores = np.sqrt(-scores)\n",
    "mean_rmse = np.mean(rmse_scores)\n",
    "\n",
    "print(\"Cross-Validation RMSE scores:\", rmse_scores)\n",
    "print(\"Mean RMSE:\", mean_rmse)\n"
   ]
  },
  {
   "cell_type": "code",
   "execution_count": 89,
   "id": "f608c916",
   "metadata": {},
   "outputs": [
    {
     "name": "stdout",
     "output_type": "stream",
     "text": [
      "Cross-Validation R² scores: [0.91757195 0.90449431 0.92128491 0.89210581 0.90432102]\n",
      "Mean R² score: 0.9079556004963047\n"
     ]
    }
   ],
   "source": [
    "# Khởi tạo mô hình SVR\n",
    "svr = SVR(kernel='rbf', C=100, epsilon=1.0, gamma=0.1)\n",
    "\n",
    "# Sử dụng cross-validation với 5 folds để tính R² scores\n",
    "r2_scores = cross_val_score(svr, X_train, y_train, cv=5, scoring='r2')\n",
    "\n",
    "# Tính trung bình và độ lệch chuẩn của R² scores\n",
    "mean_r2 = np.mean(r2_scores)\n",
    "std_r2 = np.std(r2_scores)\n",
    "\n",
    "print(\"Cross-Validation R² scores:\", r2_scores)\n",
    "print(\"Mean R² score:\", mean_r2)\n"
   ]
  },
  {
   "cell_type": "code",
   "execution_count": null,
   "id": "794aab7d",
   "metadata": {},
   "outputs": [],
   "source": []
  }
 ],
 "metadata": {
  "kernelspec": {
   "display_name": "Python 3 (ipykernel)",
   "language": "python",
   "name": "python3"
  },
  "language_info": {
   "codemirror_mode": {
    "name": "ipython",
    "version": 3
   },
   "file_extension": ".py",
   "mimetype": "text/x-python",
   "name": "python",
   "nbconvert_exporter": "python",
   "pygments_lexer": "ipython3",
   "version": "3.11.5"
  }
 },
 "nbformat": 4,
 "nbformat_minor": 5
}
